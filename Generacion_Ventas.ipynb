{
 "cells": [
  {
   "cell_type": "code",
   "execution_count": 1,
   "id": "453dc935",
   "metadata": {},
   "outputs": [
    {
     "name": "stderr",
     "output_type": "stream",
     "text": [
      "22/09/27 19:18:26 WARN NativeCodeLoader: Unable to load native-hadoop library for your platform... using builtin-java classes where applicable\n",
      "Using Spark's default log4j profile: org/apache/spark/log4j-defaults.properties\n",
      "Setting default log level to \"WARN\".\n",
      "To adjust logging level use sc.setLogLevel(newLevel). For SparkR, use setLogLevel(newLevel).\n"
     ]
    }
   ],
   "source": [
    "from pyspark.sql import SparkSession\n",
    "\n",
    "spark = SparkSession.\\\n",
    "        builder.\\\n",
    "        appName(\"pyspark-notebook\").\\\n",
    "        master(\"spark://spark-master:7077\").\\\n",
    "        config(\"spark.executor.memory\", \"512m\").\\\n",
    "        getOrCreate()"
   ]
  },
  {
   "cell_type": "code",
   "execution_count": 2,
   "id": "3d26da6a",
   "metadata": {},
   "outputs": [],
   "source": [
    "from pyspark.sql import *\n",
    "from pyspark.sql.types import *\n",
    "from pyspark.sql.functions import *"
   ]
  },
  {
   "cell_type": "code",
   "execution_count": 5,
   "id": "1d7976f7",
   "metadata": {},
   "outputs": [
    {
     "name": "stderr",
     "output_type": "stream",
     "text": [
      "                                                                                \r"
     ]
    }
   ],
   "source": [
    "venta = spark.read.csv(path=\"data/Venta.csv\", inferSchema=True, sep=\",\", header=True)"
   ]
  },
  {
   "cell_type": "code",
   "execution_count": 21,
   "id": "4e547226",
   "metadata": {},
   "outputs": [
    {
     "data": {
      "text/plain": [
       "46645"
      ]
     },
     "execution_count": 21,
     "metadata": {},
     "output_type": "execute_result"
    }
   ],
   "source": [
    "venta.count()"
   ]
  },
  {
   "cell_type": "code",
   "execution_count": 12,
   "id": "3aef6078",
   "metadata": {},
   "outputs": [
    {
     "name": "stdout",
     "output_type": "stream",
     "text": [
      "root\n",
      " |-- IdVenta: integer (nullable = true)\n",
      " |-- Fecha: date (nullable = true)\n",
      " |-- Fecha_Entrega: string (nullable = true)\n",
      " |-- IdCanal: integer (nullable = true)\n",
      " |-- IdCliente: integer (nullable = true)\n",
      " |-- IdSucursal: integer (nullable = true)\n",
      " |-- IdEmpleado: integer (nullable = true)\n",
      " |-- IdProducto: integer (nullable = true)\n",
      " |-- Precio: double (nullable = true)\n",
      " |-- Cantidad: integer (nullable = true)\n",
      "\n"
     ]
    }
   ],
   "source": [
    "venta.printSchema()"
   ]
  },
  {
   "cell_type": "code",
   "execution_count": 11,
   "id": "6a3e1e2c",
   "metadata": {},
   "outputs": [],
   "source": [
    "venta = venta.withColumn(\"Fecha\",col(\"Fecha\").cast(\"date\"))"
   ]
  },
  {
   "cell_type": "code",
   "execution_count": 14,
   "id": "1950a4c3",
   "metadata": {},
   "outputs": [],
   "source": [
    "venta = venta.withColumn(\"Fecha_Entrega\",col(\"Fecha_Entrega\").cast(\"date\"))"
   ]
  },
  {
   "cell_type": "code",
   "execution_count": 15,
   "id": "7cf14d88",
   "metadata": {},
   "outputs": [
    {
     "name": "stdout",
     "output_type": "stream",
     "text": [
      "root\n",
      " |-- IdVenta: integer (nullable = true)\n",
      " |-- Fecha: date (nullable = true)\n",
      " |-- Fecha_Entrega: date (nullable = true)\n",
      " |-- IdCanal: integer (nullable = true)\n",
      " |-- IdCliente: integer (nullable = true)\n",
      " |-- IdSucursal: integer (nullable = true)\n",
      " |-- IdEmpleado: integer (nullable = true)\n",
      " |-- IdProducto: integer (nullable = true)\n",
      " |-- Precio: double (nullable = true)\n",
      " |-- Cantidad: integer (nullable = true)\n",
      "\n"
     ]
    }
   ],
   "source": [
    "venta.printSchema()"
   ]
  },
  {
   "cell_type": "code",
   "execution_count": 16,
   "id": "3b0b56e1",
   "metadata": {},
   "outputs": [
    {
     "name": "stdout",
     "output_type": "stream",
     "text": [
      "+-------+----------+-------------+-------+---------+----------+----------+----------+------+--------+\n",
      "|IdVenta|     Fecha|Fecha_Entrega|IdCanal|IdCliente|IdSucursal|IdEmpleado|IdProducto|Precio|Cantidad|\n",
      "+-------+----------+-------------+-------+---------+----------+----------+----------+------+--------+\n",
      "|      1|2018-03-09|   2018-03-17|      3|      969|        13|      1674|     42817|813.12|       2|\n",
      "|      2|2018-12-28|   2018-12-29|      2|      884|        13|      1674|     42795|543.18|       3|\n",
      "|      3|2016-03-28|   2016-03-31|      2|     1722|        13|      1674|     42837|430.32|       1|\n",
      "|      4|2017-10-23|   2017-10-24|      3|     2876|        13|      1674|     42834|818.84|       2|\n",
      "|      5|2017-11-22|   2017-11-25|      2|      678|        13|      1674|     42825|554.18|       3|\n",
      "|      6|2018-01-24|   2018-01-25|      2|     3263|        13|      1674|     42852| 152.0|       1|\n",
      "|      7|2015-03-25|   2015-03-26|      3|     2983|        13|      1674|     42939|2915.0|       1|\n",
      "|      8|2017-07-10|   2017-07-18|      2|      201|        13|      1674|     42940|2162.0|       2|\n",
      "|      9|2018-04-03|   2018-04-06|      2|     1006|        13|      1674|     42905| 456.0|       3|\n",
      "|     10|2019-03-16|   2019-03-17|      1|     1003|        13|      1674|     42894| 515.0|       2|\n",
      "+-------+----------+-------------+-------+---------+----------+----------+----------+------+--------+\n",
      "only showing top 10 rows\n",
      "\n"
     ]
    }
   ],
   "source": [
    "venta.show(n=10)"
   ]
  },
  {
   "cell_type": "code",
   "execution_count": 17,
   "id": "8bf65397",
   "metadata": {},
   "outputs": [],
   "source": [
    "venta.createOrReplaceTempView(\"venta\")"
   ]
  },
  {
   "cell_type": "code",
   "execution_count": 18,
   "id": "1392b3ce",
   "metadata": {
    "collapsed": true,
    "jupyter": {
     "outputs_hidden": true
    }
   },
   "outputs": [
    {
     "name": "stderr",
     "output_type": "stream",
     "text": [
      "[Stage 10:====================================================> (195 + 2) / 200]\r"
     ]
    },
    {
     "name": "stdout",
     "output_type": "stream",
     "text": [
      "+----------+-----+\n",
      "|Fecha     |Count|\n",
      "+----------+-----+\n",
      "|2020-11-19|88   |\n",
      "|2020-03-31|79   |\n",
      "|2020-01-01|72   |\n",
      "|2016-09-27|71   |\n",
      "|2020-09-09|70   |\n",
      "|2020-09-11|69   |\n",
      "|2020-05-27|69   |\n",
      "|2020-04-13|69   |\n",
      "|2020-03-30|67   |\n",
      "|2020-02-14|66   |\n",
      "|2020-01-09|66   |\n",
      "|2020-05-23|64   |\n",
      "|2020-01-02|64   |\n",
      "|2020-09-10|63   |\n",
      "|2017-12-04|63   |\n",
      "|2020-07-11|63   |\n",
      "|2020-09-08|62   |\n",
      "|2020-09-28|62   |\n",
      "|2020-09-24|60   |\n",
      "|2020-01-18|60   |\n",
      "+----------+-----+\n",
      "only showing top 20 rows\n",
      "\n"
     ]
    },
    {
     "name": "stderr",
     "output_type": "stream",
     "text": [
      "                                                                                \r"
     ]
    }
   ],
   "source": [
    "spark.sql(\"SELECT Fecha, count(*) as Count FROM venta GROUP BY Fecha ORDER BY Count DESC\").show(truncate=False)"
   ]
  },
  {
   "cell_type": "code",
   "execution_count": 19,
   "id": "2b5f0f52",
   "metadata": {
    "collapsed": true,
    "jupyter": {
     "outputs_hidden": true
    }
   },
   "outputs": [
    {
     "name": "stderr",
     "output_type": "stream",
     "text": [
      "[Stage 13:===================================================>  (190 + 2) / 200]\r"
     ]
    },
    {
     "name": "stdout",
     "output_type": "stream",
     "text": [
      "+----------+-----+\n",
      "|Fecha     |Count|\n",
      "+----------+-----+\n",
      "|2020-11-19|80   |\n",
      "|2020-09-11|64   |\n",
      "|2020-09-09|63   |\n",
      "|2020-07-11|61   |\n",
      "|2020-09-10|58   |\n",
      "|2020-09-28|57   |\n",
      "|2020-09-08|56   |\n",
      "|2020-09-24|55   |\n",
      "|2020-07-10|55   |\n",
      "|2020-07-08|55   |\n",
      "|2020-07-07|54   |\n",
      "|2020-09-26|53   |\n",
      "|2020-09-25|51   |\n",
      "|2020-07-09|51   |\n",
      "|2020-09-23|51   |\n",
      "|2020-11-20|49   |\n",
      "|2020-10-21|49   |\n",
      "|2020-09-19|49   |\n",
      "|2020-09-21|49   |\n",
      "|2020-09-18|48   |\n",
      "+----------+-----+\n",
      "only showing top 20 rows\n",
      "\n"
     ]
    },
    {
     "name": "stderr",
     "output_type": "stream",
     "text": [
      "                                                                                \r"
     ]
    }
   ],
   "source": [
    "spark.sql(\"SELECT Fecha, count(DISTINCT IdProducto) as Count FROM venta GROUP BY Fecha ORDER BY Count DESC\").show(truncate=False)"
   ]
  },
  {
   "cell_type": "code",
   "execution_count": 20,
   "id": "dc59f4e8",
   "metadata": {
    "collapsed": true,
    "jupyter": {
     "outputs_hidden": true
    }
   },
   "outputs": [
    {
     "name": "stderr",
     "output_type": "stream",
     "text": [
      "[Stage 16:=====================================================>(198 + 2) / 200]\r"
     ]
    },
    {
     "name": "stdout",
     "output_type": "stream",
     "text": [
      "+----------+-----+\n",
      "|Fecha     |Count|\n",
      "+----------+-----+\n",
      "|2020-11-19|86   |\n",
      "|2020-09-11|68   |\n",
      "|2020-09-09|67   |\n",
      "|2020-09-28|62   |\n",
      "|2020-09-10|61   |\n",
      "|2020-07-11|60   |\n",
      "|2020-09-08|60   |\n",
      "|2020-09-24|60   |\n",
      "|2020-07-07|59   |\n",
      "|2020-07-08|59   |\n",
      "|2020-07-10|58   |\n",
      "|2020-09-26|56   |\n",
      "|2020-09-23|56   |\n",
      "|2020-10-21|55   |\n",
      "|2020-09-25|55   |\n",
      "|2020-09-19|54   |\n",
      "|2020-07-09|53   |\n",
      "|2020-09-18|52   |\n",
      "|2020-11-20|52   |\n",
      "|2020-11-21|52   |\n",
      "+----------+-----+\n",
      "only showing top 20 rows\n",
      "\n"
     ]
    },
    {
     "name": "stderr",
     "output_type": "stream",
     "text": [
      "                                                                                \r"
     ]
    }
   ],
   "source": [
    "spark.sql(\"SELECT Fecha, count(DISTINCT IdCliente) as Count FROM venta GROUP BY Fecha ORDER BY Count DESC\").show(truncate=False)"
   ]
  },
  {
   "cell_type": "code",
   "execution_count": 70,
   "id": "15104b61",
   "metadata": {
    "collapsed": true,
    "jupyter": {
     "outputs_hidden": true
    }
   },
   "outputs": [
    {
     "name": "stderr",
     "output_type": "stream",
     "text": [
      "[Stage 69:===================================================>  (191 + 2) / 200]\r"
     ]
    },
    {
     "name": "stdout",
     "output_type": "stream",
     "text": [
      "+----------+-----+\n",
      "|Fecha     |Count|\n",
      "+----------+-----+\n",
      "|2020-09-09|28   |\n",
      "|2020-09-28|28   |\n",
      "|2020-09-08|27   |\n",
      "|2020-08-01|27   |\n",
      "|2020-10-21|26   |\n",
      "|2020-11-19|26   |\n",
      "|2020-09-11|26   |\n",
      "|2020-12-12|25   |\n",
      "|2020-09-10|25   |\n",
      "|2020-09-18|25   |\n",
      "|2020-09-25|25   |\n",
      "|2020-09-21|25   |\n",
      "|2020-09-19|25   |\n",
      "|2020-09-26|25   |\n",
      "|2020-08-04|25   |\n",
      "|2020-06-30|25   |\n",
      "|2020-11-21|24   |\n",
      "|2020-06-09|24   |\n",
      "|2020-11-20|24   |\n",
      "|2020-07-23|24   |\n",
      "+----------+-----+\n",
      "only showing top 20 rows\n",
      "\n"
     ]
    },
    {
     "name": "stderr",
     "output_type": "stream",
     "text": [
      "                                                                                \r"
     ]
    }
   ],
   "source": [
    "spark.sql(\"SELECT Fecha, count(DISTINCT IdSucursal) as Count FROM venta GROUP BY Fecha ORDER BY Count DESC\").show(truncate=False)"
   ]
  },
  {
   "cell_type": "code",
   "execution_count": 71,
   "id": "c8538fc7",
   "metadata": {
    "collapsed": true,
    "jupyter": {
     "outputs_hidden": true
    }
   },
   "outputs": [
    {
     "name": "stderr",
     "output_type": "stream",
     "text": [
      "[Stage 72:===========================================>          (160 + 2) / 200]\r"
     ]
    },
    {
     "name": "stdout",
     "output_type": "stream",
     "text": [
      "+----------+-----+\n",
      "|Fecha     |Count|\n",
      "+----------+-----+\n",
      "|2020-11-19|73   |\n",
      "|2020-03-31|65   |\n",
      "|2020-09-09|64   |\n",
      "|2020-05-27|63   |\n",
      "|2020-01-09|62   |\n",
      "|2020-09-28|60   |\n",
      "|2016-09-27|60   |\n",
      "|2020-09-11|59   |\n",
      "|2020-01-01|59   |\n",
      "|2020-04-13|59   |\n",
      "|2020-03-30|58   |\n",
      "|2020-09-08|58   |\n",
      "|2020-09-24|56   |\n",
      "|2020-04-21|56   |\n",
      "|2020-05-23|54   |\n",
      "|2020-09-26|54   |\n",
      "|2020-05-01|53   |\n",
      "|2020-01-02|53   |\n",
      "|2020-09-25|53   |\n",
      "|2016-04-08|53   |\n",
      "+----------+-----+\n",
      "only showing top 20 rows\n",
      "\n"
     ]
    },
    {
     "name": "stderr",
     "output_type": "stream",
     "text": [
      "                                                                                \r"
     ]
    }
   ],
   "source": [
    "spark.sql(\"SELECT Fecha, count(DISTINCT IdEmpleado) as Count FROM venta GROUP BY Fecha ORDER BY Count DESC\").show(truncate=False)"
   ]
  },
  {
   "cell_type": "code",
   "execution_count": 23,
   "id": "ddbeb55a",
   "metadata": {},
   "outputs": [
    {
     "name": "stdout",
     "output_type": "stream",
     "text": [
      "+--------+\n",
      "|count(1)|\n",
      "+--------+\n",
      "|23381   |\n",
      "+--------+\n",
      "\n"
     ]
    }
   ],
   "source": [
    "spark.sql(\"SELECT COUNT(*) FROM venta WHERE RAND() < 0.5\").show(truncate=False)"
   ]
  },
  {
   "cell_type": "code",
   "execution_count": 24,
   "id": "745755f6",
   "metadata": {},
   "outputs": [],
   "source": [
    "cliente = spark.read.csv(path=\"data/Cliente.csv\", inferSchema=True, sep=\";\", header=True)"
   ]
  },
  {
   "cell_type": "code",
   "execution_count": 25,
   "id": "55ca47e6",
   "metadata": {
    "collapsed": true,
    "jupyter": {
     "outputs_hidden": true
    }
   },
   "outputs": [
    {
     "name": "stdout",
     "output_type": "stream",
     "text": [
      "+---+-------------+--------------------+--------------------+--------+----+-------------------+------------+------------+-----+\n",
      "| ID|    Provincia|   Nombre_y_Apellido|           Domicilio|Telefono|Edad|          Localidad|           X|           Y|col10|\n",
      "+---+-------------+--------------------+--------------------+--------+----+-------------------+------------+------------+-----+\n",
      "|  1|             |  HEBER JONI SANTANA|LAS HERAS Y BAT. ...| 42-5161|  58|         LOMA VERDE|-58,81850307|-34,30997088| null|\n",
      "|  2| Buenos Aires|         ANA SAPRIZA|PUEYRREDON Y DUPU...| 49-7578|  61|         SANTA ROSA|-58,73073751|-34,93908311| null|\n",
      "|  3|Buenos Aires |FERNANDO LUIS SAR...|CALDERON DE LA BA...| 49-3435|  15|             TORRES|-59,12794068|-34,43082199| null|\n",
      "|  4| Buenos Aires|    MANUELA SARASOLA|RUTA 36 KM 45,500...| 49-2883|  29|           RUTA SOL|-58,14393954|-34,92052706| null|\n",
      "|  5| Buenos Aires|  MARIO RAÚL SARASUA|492 Y 186 S/N  CO...|491-4608|  34|JOSE MELCHOR ROMERO|  -58,089381| -34,9444471| null|\n",
      "|  6| Buenos Aires| PEDRO JESUS SARAVIA|RUTA 2 - KM 44,50...| 49-2350|  18|           RUTA SOL|-58,11226426|-35,00786216| null|\n",
      "|  7| Buenos Aires|       JORGE SARAVIA|VILLARROEL RUTA 3...| 49-5306|  21|    VIRREY DEL PINO|-58,70894814|-34,86070786| null|\n",
      "|  8| Buenos Aires|CARLOS JOSE SARAZOLA|ISLA SANTIAGO S/N...|623-9935|  40|      ISLA SANTIAGO|-57,88154205| -34,8350313| null|\n",
      "|  9| Buenos Aires|    OSCAR LUIS SARLO|GARCILAZO DE LA V...| 49-7576|  18|         SANTA ROSA|-58,75008438|-34,97534955| null|\n",
      "| 10| Buenos Aires|JOSE ADOLFO SARMI...|SEGUNDO SOMBRA E/...| 49-7565|  58|         SANTA ROSA|-58,75203716|-34,95142843| null|\n",
      "+---+-------------+--------------------+--------------------+--------+----+-------------------+------------+------------+-----+\n",
      "only showing top 10 rows\n",
      "\n"
     ]
    }
   ],
   "source": [
    "cliente.show(n=10)"
   ]
  },
  {
   "cell_type": "code",
   "execution_count": 26,
   "id": "d2b304a9",
   "metadata": {},
   "outputs": [],
   "source": [
    "empleado = spark.read.csv(path=\"data/Empleado.csv\", inferSchema=True, sep=\",\", header=True)"
   ]
  },
  {
   "cell_type": "code",
   "execution_count": 27,
   "id": "38280713",
   "metadata": {
    "collapsed": true,
    "jupyter": {
     "outputs_hidden": true
    }
   },
   "outputs": [
    {
     "name": "stdout",
     "output_type": "stream",
     "text": [
      "+----------+--------------+---------+---------+----------+--------+-------+-------+\n",
      "|IdEmpleado|CodigoEmpleado| Apellido|   Nombre|IdSucursal|IdSector|IdCargo|Salario|\n",
      "+----------+--------------+---------+---------+----------+--------+-------+-------+\n",
      "|  13001968|          1968|   Burgos| Jeronimo|        13|       1|      1|32000.0|\n",
      "|  13001674|          1674| Villegas|Estefania|        13|       1|      5|32000.0|\n",
      "|  13001516|          1516|Fernandez|Guillermo|        13|       1|      5|45000.0|\n",
      "|  13001330|          1330|  Ramirez|   Eliana|        13|       1|      5|32000.0|\n",
      "|  13001657|          1657|  Carmona|     Jose|        13|       1|      5|32000.0|\n",
      "|  13001573|          1573|De Santis|  Marcela|        13|       1|      2|15000.0|\n",
      "|  13001658|          1658|   Franco|  Daniela|        13|       1|      5|32000.0|\n",
      "|  13001078|          1078|   Cortes|   Rafael|        13|       4|      1|42000.0|\n",
      "|   1001695|          1695|   Berrio|   Camilo|         1|       4|      5|32000.0|\n",
      "|   1001285|          1285|    Arias|Francisco|         1|       4|      5|32000.0|\n",
      "+----------+--------------+---------+---------+----------+--------+-------+-------+\n",
      "only showing top 10 rows\n",
      "\n"
     ]
    }
   ],
   "source": [
    "empleado.show(n=10)"
   ]
  },
  {
   "cell_type": "code",
   "execution_count": 34,
   "id": "639163a5",
   "metadata": {},
   "outputs": [],
   "source": [
    "producto = spark.read.csv(path=\"data/Producto.csv\", inferSchema=True, sep=\",\", header=True)"
   ]
  },
  {
   "cell_type": "code",
   "execution_count": 35,
   "id": "db52a07b",
   "metadata": {
    "collapsed": true,
    "jupyter": {
     "outputs_hidden": true
    }
   },
   "outputs": [
    {
     "name": "stdout",
     "output_type": "stream",
     "text": [
      "+-----------+--------------------+-----------+-------+\n",
      "|ID_PRODUCTO|            Concepto|       Tipo| Precio|\n",
      "+-----------+--------------------+-----------+-------+\n",
      "|      42737|  EPSON COPYFAX 2000|  IMPRESIÓN| 1658.0|\n",
      "|      42754|MOT ASROCK H110M-...|INFORMATICA| 1237.5|\n",
      "|      42755|MOT ASROCK A58M-V...|INFORMATICA|1079.32|\n",
      "|      42756|  MOT ECS KAM1-I AM1|INFORMATICA| 638.66|\n",
      "|      42757|MOT ASROCK B150M-...|INFORMATICA|1784.42|\n",
      "|      42758|MOT ASROCK B85M S...|INFORMATICA|1819.18|\n",
      "|      42759|MOT ASROCK FM2A88...|INFORMATICA|1800.48|\n",
      "|      42760|MOT ASROCK N68-GS...|INFORMATICA|1637.24|\n",
      "|      42761|MOT MSI A68HM-E33...|INFORMATICA|1384.46|\n",
      "|      42762|MOT MSI B150M B15...|INFORMATICA| 2106.6|\n",
      "+-----------+--------------------+-----------+-------+\n",
      "only showing top 10 rows\n",
      "\n"
     ]
    }
   ],
   "source": [
    "producto.show(n=10)"
   ]
  },
  {
   "cell_type": "code",
   "execution_count": null,
   "id": "ce55ebf7",
   "metadata": {},
   "outputs": [],
   "source": [
    "cliente.createOrReplaceTempView(\"cliente\")"
   ]
  },
  {
   "cell_type": "code",
   "execution_count": 65,
   "id": "752acead",
   "metadata": {},
   "outputs": [
    {
     "name": "stdout",
     "output_type": "stream",
     "text": [
      "+--------+\n",
      "|count(1)|\n",
      "+--------+\n",
      "|78      |\n",
      "+--------+\n",
      "\n"
     ]
    }
   ],
   "source": [
    "cliente_nvo = spark.sql(\"SELECT ID AS IdCliente FROM cliente WHERE RAND() < 0.025\")\n",
    "cliente_nvo.createOrReplaceTempView(\"cliente_nvo\")\n",
    "spark.sql(\"SELECT COUNT(*) FROM cliente_nvo\").show(truncate=False)"
   ]
  },
  {
   "cell_type": "code",
   "execution_count": 67,
   "id": "e38426ac",
   "metadata": {},
   "outputs": [],
   "source": [
    "empleado.createOrReplaceTempView(\"empleado\")"
   ]
  },
  {
   "cell_type": "code",
   "execution_count": 103,
   "id": "154e9c2d",
   "metadata": {},
   "outputs": [
    {
     "name": "stdout",
     "output_type": "stream",
     "text": [
      "+--------+\n",
      "|count(1)|\n",
      "+--------+\n",
      "|75      |\n",
      "+--------+\n",
      "\n"
     ]
    }
   ],
   "source": [
    "empleado_nvo = spark.sql(\"SELECT CodigoEmpleado AS IdEmpleado, IdSucursal FROM empleado WHERE RAND() < 0.25\")\n",
    "empleado_nvo.createOrReplaceTempView(\"empleado_nvo\")\n",
    "spark.sql(\"SELECT COUNT(*) FROM empleado_nvo\").show(truncate=False)"
   ]
  },
  {
   "cell_type": "code",
   "execution_count": 104,
   "id": "de91a2b0",
   "metadata": {},
   "outputs": [
    {
     "name": "stderr",
     "output_type": "stream",
     "text": [
      "[Stage 136:=================================================>   (186 + 4) / 200]\r"
     ]
    },
    {
     "name": "stdout",
     "output_type": "stream",
     "text": [
      "+--------------------------+\n",
      "|count(DISTINCT IdSucursal)|\n",
      "+--------------------------+\n",
      "|29                        |\n",
      "+--------------------------+\n",
      "\n"
     ]
    },
    {
     "name": "stderr",
     "output_type": "stream",
     "text": [
      "                                                                                \r"
     ]
    }
   ],
   "source": [
    "spark.sql(\"SELECT COUNT(DISTINCT IdSucursal) FROM empleado_nvo\").show(truncate=False)"
   ]
  },
  {
   "cell_type": "code",
   "execution_count": 77,
   "id": "0d8c16f0",
   "metadata": {},
   "outputs": [],
   "source": [
    "producto.createOrReplaceTempView(\"producto\")"
   ]
  },
  {
   "cell_type": "code",
   "execution_count": 82,
   "id": "1e7a78ef",
   "metadata": {},
   "outputs": [
    {
     "name": "stdout",
     "output_type": "stream",
     "text": [
      "+--------+\n",
      "|count(1)|\n",
      "+--------+\n",
      "|54      |\n",
      "+--------+\n",
      "\n"
     ]
    }
   ],
   "source": [
    "producto_nvo = spark.sql(\"SELECT ID_PRODUCTO as IdProducto, Precio FROM producto WHERE RAND() < 0.2\")\n",
    "producto_nvo.createOrReplaceTempView(\"producto_nvo\")\n",
    "spark.sql(\"SELECT COUNT(*) FROM producto_nvo\").show(truncate=False)"
   ]
  },
  {
   "cell_type": "code",
   "execution_count": 195,
   "id": "371d8a4f",
   "metadata": {},
   "outputs": [],
   "source": [
    "fecha_nvo = '2021-01-01'"
   ]
  },
  {
   "cell_type": "code",
   "execution_count": 208,
   "id": "715a197b",
   "metadata": {},
   "outputs": [],
   "source": [
    "consulta = \"SELECT '\" + str(fecha_nvo) + \"' AS Fecha, \"\n",
    "consulta = consulta + \"ROUND(RAND() * 4 + 1, 0) AS Dias_Entrega, \"\n",
    "consulta = consulta + \"ROUND(RAND() * 2 + 1, 0) AS IdCanal, \"\n",
    "consulta = consulta + \"c.IdCliente, \"\n",
    "consulta = consulta + \"e.IdSucursal, \"\n",
    "consulta = consulta + \"e.IdEmpleado, \"\n",
    "consulta = consulta + \"p.IdProducto, \"\n",
    "consulta = consulta + \"p.Precio, \"\n",
    "consulta = consulta + \"ROUND(RAND() * 3 + 1, 0) AS Cantidad \"\n",
    "consulta = consulta + \"FROM cliente_nvo c, producto_nvo p, empleado_nvo e \"\n",
    "consulta = consulta + \"WHERE RAND() < 0.0005\""
   ]
  },
  {
   "cell_type": "code",
   "execution_count": 209,
   "id": "cd7f46d4",
   "metadata": {},
   "outputs": [
    {
     "data": {
      "text/plain": [
       "171"
      ]
     },
     "execution_count": 209,
     "metadata": {},
     "output_type": "execute_result"
    }
   ],
   "source": [
    "venta_nvo = spark.sql(consulta)\n",
    "venta_nvo.count()"
   ]
  },
  {
   "cell_type": "code",
   "execution_count": 212,
   "id": "21300534",
   "metadata": {},
   "outputs": [],
   "source": [
    "venta_nvo = venta_nvo.withColumn(\"IdCanal\",col(\"IdCanal\").cast(\"int\"))\n",
    "venta_nvo = venta_nvo.withColumn(\"Cantidad\",col(\"Cantidad\").cast(\"int\"))\n",
    "venta_nvo = venta_nvo.withColumn(\"Dias_Entrega\",col(\"Dias_Entrega\").cast(\"int\"))\n",
    "venta_nvo = venta_nvo.withColumn(\"Fecha\",col(\"Fecha\").cast(\"date\"))"
   ]
  },
  {
   "cell_type": "code",
   "execution_count": 214,
   "id": "c848dbc3",
   "metadata": {},
   "outputs": [],
   "source": [
    "venta_nvo.createOrReplaceTempView(\"venta_nvo\")"
   ]
  },
  {
   "cell_type": "code",
   "execution_count": 215,
   "id": "e96ff0ea",
   "metadata": {},
   "outputs": [],
   "source": [
    "venta_nvo = spark.sql(\"SELECT Fecha, DATE_ADD(Fecha, Dias_Entrega) AS Fecha_Entrega, IdCanal, IdCliente, IdSucursal, IdEmpleado, IdProducto, Precio, Cantidad FROM venta_nvo\")"
   ]
  },
  {
   "cell_type": "code",
   "execution_count": 216,
   "id": "e48ecda6",
   "metadata": {},
   "outputs": [
    {
     "name": "stdout",
     "output_type": "stream",
     "text": [
      "+----------+-------------+-------+---------+----------+----------+----------+-------+--------+\n",
      "|     Fecha|Fecha_Entrega|IdCanal|IdCliente|IdSucursal|IdEmpleado|IdProducto| Precio|Cantidad|\n",
      "+----------+-------------+-------+---------+----------+----------+----------+-------+--------+\n",
      "|2021-01-01|   2021-01-06|      2|        7|         2|      1079|     42822| 816.86|       3|\n",
      "|2021-01-01|   2021-01-02|      1|       46|         9|      2486|     42779| 9555.4|       2|\n",
      "|2021-01-01|   2021-01-05|      2|       46|        29|      3578|     42974|  214.0|       3|\n",
      "|2021-01-01|   2021-01-04|      2|       74|        25|      3622|     42811|2559.92|       4|\n",
      "|2021-01-01|   2021-01-02|      1|       87|        11|      2784|     42765|1938.42|       2|\n",
      "|2021-01-01|   2021-01-06|      2|       87|        15|      1724|     42925|    3.0|       1|\n",
      "|2021-01-01|   2021-01-06|      2|      159|        20|      3752|     42859|  610.0|       3|\n",
      "|2021-01-01|   2021-01-04|      3|      159|         8|      1370|     42877|  560.0|       2|\n",
      "|2021-01-01|   2021-01-05|      2|      159|        13|      1657|     42911| 1789.0|       3|\n",
      "|2021-01-01|   2021-01-05|      2|      159|        27|      3667|     43006|  519.0|       2|\n",
      "+----------+-------------+-------+---------+----------+----------+----------+-------+--------+\n",
      "only showing top 10 rows\n",
      "\n"
     ]
    }
   ],
   "source": [
    "venta_nvo.show(n=10)"
   ]
  },
  {
   "cell_type": "code",
   "execution_count": 217,
   "id": "d40f1c95",
   "metadata": {},
   "outputs": [
    {
     "name": "stdout",
     "output_type": "stream",
     "text": [
      "root\n",
      " |-- Fecha: date (nullable = true)\n",
      " |-- Fecha_Entrega: date (nullable = true)\n",
      " |-- IdCanal: integer (nullable = true)\n",
      " |-- IdCliente: integer (nullable = true)\n",
      " |-- IdSucursal: integer (nullable = true)\n",
      " |-- IdEmpleado: integer (nullable = true)\n",
      " |-- IdProducto: integer (nullable = true)\n",
      " |-- Precio: double (nullable = true)\n",
      " |-- Cantidad: integer (nullable = true)\n",
      "\n"
     ]
    }
   ],
   "source": [
    "venta_nvo.printSchema()"
   ]
  },
  {
   "cell_type": "code",
   "execution_count": 218,
   "id": "aa0b8c9d",
   "metadata": {},
   "outputs": [],
   "source": [
    "venta_nvo.repartition(1).write.csv(path=\"data/venta_nvo\", sep=\",\", header=True, mode=\"overwrite\")"
   ]
  }
 ],
 "metadata": {
  "kernelspec": {
   "display_name": "Python 3 (ipykernel)",
   "language": "python",
   "name": "python3"
  },
  "language_info": {
   "codemirror_mode": {
    "name": "ipython",
    "version": 3
   },
   "file_extension": ".py",
   "mimetype": "text/x-python",
   "name": "python",
   "nbconvert_exporter": "python",
   "pygments_lexer": "ipython3",
   "version": "3.9.2"
  }
 },
 "nbformat": 4,
 "nbformat_minor": 5
}
